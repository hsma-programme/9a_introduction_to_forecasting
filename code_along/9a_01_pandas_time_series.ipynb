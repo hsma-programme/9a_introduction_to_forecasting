{
 "cells": [
  {
   "cell_type": "markdown",
   "metadata": {},
   "source": [
    "# Loading time series data into Pandas\n",
    "\n",
    "This notebook demonstrates how to load a time series into a `pandas.DataFrame`.   There are a couple of extra steps we need to take when dealing with time series.\n",
    "\n",
    "* set the index of the `pandas.DataFrame` to be a `DateTimeIndex`\n",
    "* Set the frequency of the `DateTimeIndex` i.e. Days, Month, etc\n",
    "* parse dates and watch out for US and UK date format issues\n",
    "\n",
    "#### References\n",
    "* [Pandas Timeseries](#https://pandas.pydata.org/docs/user_guide/timeseries.html)\n",
    "\n",
    "* [Pandas `read_csv`](#https://pandas.pydata.org/docs/reference/api/pandas.read_csv.html)"
   ]
  },
  {
   "cell_type": "markdown",
   "metadata": {},
   "source": [
    "# Imports\n",
    "\n",
    "Ideally for this module you should have a version of pandas around version 1.2. "
   ]
  },
  {
   "cell_type": "code",
   "execution_count": null,
   "metadata": {},
   "outputs": [],
   "source": [
    "import pandas as pd\n",
    "pd.__version__"
   ]
  },
  {
   "cell_type": "markdown",
   "metadata": {},
   "source": [
    "# Alcohol sales dataset\n",
    "\n",
    "Let's download and open an example time series.  This particular one is alcohol sales and it looks like the figure below - covers a large time scale (1992 - 2019) using monthly level data.  Its an interesting time series as the variation in it increases over time! Contains seasonality and trend, in addition to variability that increases over time (aka \"multiplicative seasonality\").\n",
    "\n",
    "![image](images/alcohol_ts.png)\n"
   ]
  },
  {
   "cell_type": "markdown",
   "metadata": {},
   "source": [
    "# Reading a CSV\n",
    "\n",
    "To load a time series into `pandas` you need to use the `read_csv()` function. Some additional steps\n",
    "\n",
    "* set `parse_dates=True` - this parses the dates\n",
    "* set `index_col` to the name of the date column. In this example the column has a name called `DATE`\n",
    "* Before you load the dataset check the date format.  If it is in UK day first format then set `dayfirst=True`\n",
    "* After you have loaded the data set the frequency of the date time index\n",
    "    * Daily frequency = 'D'\n",
    "    * Monthly frequency = 'MS' (month start)\n"
   ]
  },
  {
   "cell_type": "code",
   "execution_count": null,
   "metadata": {},
   "outputs": [],
   "source": [
    "#read in data - first try\n",
    "url = 'https://raw.githubusercontent.com/hsma5/9a_introduction_to_forecasting/main/' \\\n",
    "        + 'data/Alcohol_Sales.csv'\n",
    "ts = pd.read_csv(url, \n",
    "                 parse_dates=True, \n",
    "                 index_col='DATE')"
   ]
  },
  {
   "cell_type": "code",
   "execution_count": null,
   "metadata": {},
   "outputs": [],
   "source": [
    "#lets take a look at the data\n",
    "ts.head()"
   ]
  },
  {
   "cell_type": "code",
   "execution_count": null,
   "metadata": {},
   "outputs": [],
   "source": [
    "#lets take a look at the info\n",
    "ts.info()"
   ]
  },
  {
   "cell_type": "code",
   "execution_count": null,
   "metadata": {},
   "outputs": [],
   "source": [
    "#lets take a look at the index\n",
    "ts.index"
   ]
  },
  {
   "cell_type": "code",
   "execution_count": null,
   "metadata": {},
   "outputs": [],
   "source": [
    "#set the frequency of the datetime index (monthly data)\n",
    "ts.index.freq = 'MS'"
   ]
  },
  {
   "cell_type": "code",
   "execution_count": null,
   "metadata": {
    "scrolled": true
   },
   "outputs": [],
   "source": [
    "#lets now take another look at the info\n",
    "ts.info()"
   ]
  },
  {
   "cell_type": "code",
   "execution_count": null,
   "metadata": {},
   "outputs": [],
   "source": [
    "#lets now take another look at the index\n",
    "ts.index"
   ]
  },
  {
   "cell_type": "code",
   "execution_count": null,
   "metadata": {},
   "outputs": [],
   "source": [
    "#read in data - take two\n",
    "url = 'https://raw.githubusercontent.com/hsma4/module_9_a/main/' \\\n",
    "        + 'data/Alcohol_Sales.csv'\n",
    "ts = pd.read_csv(url, \n",
    "                 parse_dates=True, \n",
    "                 index_col='DATE')\n",
    "#set the frequency of the datetime index (monthly data)\n",
    "ts.index.freq = 'MS'"
   ]
  }
 ],
 "metadata": {
  "kernelspec": {
   "display_name": "Python 3 (ipykernel)",
   "language": "python",
   "name": "python3"
  },
  "language_info": {
   "codemirror_mode": {
    "name": "ipython",
    "version": 3
   },
   "file_extension": ".py",
   "mimetype": "text/x-python",
   "name": "python",
   "nbconvert_exporter": "python",
   "pygments_lexer": "ipython3",
   "version": "3.9.12"
  }
 },
 "nbformat": 4,
 "nbformat_minor": 4
}
