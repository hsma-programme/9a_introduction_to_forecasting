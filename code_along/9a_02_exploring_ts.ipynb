{
 "cells": [
  {
   "cell_type": "markdown",
   "metadata": {},
   "source": [
    "# Exploring Time Series\n",
    "\n",
    "## Exploring and plotting before forecasting.\n",
    "\n",
    "Before any forecasting is attempted it is important to understand a time series.\n",
    "\n",
    "In this notebook you will learn how to:\n",
    "\n",
    "* Plot a time series\n",
    "* Adjust monthly time series to account for the different number of days\n",
    "* Run a smoother through the time series to assess trend.\n",
    "* Break a time series into its trend and seasonal components.\n",
    "\n",
    "#### References\n",
    "* [Pandas Plot](#https://pandas.pydata.org/docs/reference/api/pandas.DataFrame.plot.html)\n",
    "* [Pandas Rolling](#https://pandas.pydata.org/pandas-docs/stable/reference/api/pandas.DataFrame.rolling.html)"
   ]
  },
  {
   "cell_type": "markdown",
   "metadata": {},
   "source": [
    "## Imports"
   ]
  },
  {
   "cell_type": "code",
   "execution_count": null,
   "metadata": {},
   "outputs": [],
   "source": [
    "import pandas as pd\n",
    "import numpy as np\n",
    "import matplotlib.pyplot as plt\n",
    "import matplotlib.dates as mdates\n",
    "import matplotlib.style as style\n",
    "from statsmodels.tsa.seasonal import seasonal_decompose"
   ]
  },
  {
   "cell_type": "code",
   "execution_count": null,
   "metadata": {},
   "outputs": [],
   "source": [
    "import statsmodels as sm"
   ]
  },
  {
   "cell_type": "code",
   "execution_count": null,
   "metadata": {},
   "outputs": [],
   "source": [
    "sm.__version__\n",
    "\n",
    "# Good practice to use v 0.11.1"
   ]
  },
  {
   "cell_type": "markdown",
   "metadata": {},
   "source": [
    "## The ED arrivals dataset.\n",
    "\n",
    "The dataset we will use represent monthly adult (age > 18) arrivals to an Emergency Department.  The monthly frequency observations are between April 2009 and May 2017. "
   ]
  },
  {
   "cell_type": "code",
   "execution_count": null,
   "metadata": {},
   "outputs": [],
   "source": [
    "url = 'https://raw.githubusercontent.com/hsma5/9a_introduction_to_forecasting/main/data/' \\\n",
    "        + 'ed_mth_ts.csv'\n",
    "ed_month = pd.read_csv(url, index_col='date', parse_dates=True)\n",
    "ed_month.index.freq = 'MS'"
   ]
  },
  {
   "cell_type": "markdown",
   "metadata": {},
   "source": [
    "The first thing you should do when exploring a time series is check its length and duration."
   ]
  },
  {
   "cell_type": "code",
   "execution_count": null,
   "metadata": {},
   "outputs": [],
   "source": [
    "# This tells us how many months are in the ts\n",
    "ed_month.shape "
   ]
  },
  {
   "cell_type": "code",
   "execution_count": null,
   "metadata": {},
   "outputs": [],
   "source": [
    "# the minimum date\n",
    "ed_month.index.min()"
   ]
  },
  {
   "cell_type": "code",
   "execution_count": null,
   "metadata": {},
   "outputs": [],
   "source": [
    "# the maximum date\n",
    "ed_month.index.max()"
   ]
  },
  {
   "cell_type": "markdown",
   "metadata": {},
   "source": [
    "### How to use Pandas and Matplotlib to visualise a time series\n",
    "\n",
    "Pandas implements matplotlib functionality as part of its `DataFrame`. The quickest way to visualise a time series in Python is therefore to call the `plot()` method of a `DataFrame`.  \n",
    "\n",
    "The `plot()` method takes a tuple parameter called `figsize`. The tuple represents the (length, height) of the image."
   ]
  },
  {
   "cell_type": "code",
   "execution_count": null,
   "metadata": {},
   "outputs": [],
   "source": [
    "# the plot function returns an axis object we usually assign that to `ax`\n",
    "ax = ed_month.plot(figsize=(12,4))"
   ]
  },
  {
   "cell_type": "markdown",
   "metadata": {},
   "source": [
    "You can then easily to save a high resolution image to file if you would like to use it in a report."
   ]
  },
  {
   "cell_type": "code",
   "execution_count": null,
   "metadata": {},
   "outputs": [],
   "source": [
    "ax = ed_month.plot(figsize=(12,4))\n",
    "ax.figure.savefig('images/explore.png')"
   ]
  },
  {
   "cell_type": "markdown",
   "metadata": {},
   "source": [
    "### Improving the appearance of your time series plot"
   ]
  },
  {
   "cell_type": "markdown",
   "metadata": {},
   "source": [
    "Matplotlib is very flexible. The full functionality is beyond the scope of this tutorial and it is recommended to review the matplotlib site for examples.  Here we recommend the following parameters to help manipulate your plot.\n",
    "\n",
    "* `color` e.g. 'green', 'blue' or 'orange'\n",
    "* `linestyle` e.g. '--' for dashed, '-.' for dash-dot, or '' for none.\n",
    "* `linewidth` - a number - typically 1, 1.5 or 2 will do.\n",
    "* `marker` - e.g. 'o' for dots, '+' for crosses, '^' for triangle, and '' for none."
   ]
  },
  {
   "cell_type": "code",
   "execution_count": null,
   "metadata": {},
   "outputs": [],
   "source": [
    "ax = ed_month.plot(figsize=(12,4),\n",
    "                   color='black',\n",
    "                   linestyle='-.',\n",
    "                   marker='^',\n",
    "                   linewidth=1)"
   ]
  },
  {
   "cell_type": "markdown",
   "metadata": {},
   "source": [
    "The `plot` method returns an `axis` object. You can use this to manipulate the plot.  The following is often useful for time series plots.\n",
    "\n",
    "* The y and x scale\n",
    "* The y and x label."
   ]
  },
  {
   "cell_type": "code",
   "execution_count": null,
   "metadata": {},
   "outputs": [],
   "source": [
    "ax = ed_month.plot(figsize=(12,4),\n",
    "                   legend=False);\n",
    "ax.set_ylabel('attendances')\n",
    "\n",
    "# set ylim returns a tuple.  Its not useful so we normally assign it to '_'\n",
    "_ = ax.set_ylim(0, 12_000) # underscore acts as a comma"
   ]
  },
  {
   "cell_type": "markdown",
   "metadata": {},
   "source": [
    "#### Using Seaborn\n",
    "You can also use the `seaborn` package to improve the default appearance of your charts.  "
   ]
  },
  {
   "cell_type": "code",
   "execution_count": null,
   "metadata": {},
   "outputs": [],
   "source": [
    "import seaborn as sns\n",
    "sns.set()"
   ]
  },
  {
   "cell_type": "code",
   "execution_count": null,
   "metadata": {},
   "outputs": [],
   "source": [
    "# lets take a look at how seaborn has now improved appearance\n",
    "_ = ed_month.plot(figsize=(12,4))"
   ]
  },
  {
   "cell_type": "markdown",
   "metadata": {},
   "source": [
    "### Visualising monthly data after adjusting for days in the month"
   ]
  },
  {
   "cell_type": "markdown",
   "metadata": {},
   "source": [
    "When you are working with monthly data, some of the noise you are seeing the time series is due to months having a different number of days (i.e. February having 28 days).  This makes forecasting harder than it needs to be.  Adjusting the time series by dividing by the number of days per month removes that noise.  \n",
    "\n",
    "This is very straightforward in pandas, using the built in property `DateTimeIndex.days_in_month`"
   ]
  },
  {
   "cell_type": "code",
   "execution_count": null,
   "metadata": {},
   "outputs": [],
   "source": [
    "ed_month.index.days_in_month"
   ]
  },
  {
   "cell_type": "code",
   "execution_count": null,
   "metadata": {},
   "outputs": [],
   "source": [
    "arrival_rate = ed_month['arrivals'] / ed_month.index.days_in_month"
   ]
  },
  {
   "cell_type": "code",
   "execution_count": null,
   "metadata": {},
   "outputs": [],
   "source": [
    "arrival_rate.head()"
   ]
  },
  {
   "cell_type": "code",
   "execution_count": null,
   "metadata": {},
   "outputs": [],
   "source": [
    "ed_month.head()"
   ]
  },
  {
   "cell_type": "markdown",
   "metadata": {},
   "source": [
    "**Note that the units of the time series are now '*attendances / per day*'.**"
   ]
  },
  {
   "cell_type": "code",
   "execution_count": null,
   "metadata": {},
   "outputs": [],
   "source": [
    "_ = ed_month.plot(figsize=(12,4));"
   ]
  },
  {
   "cell_type": "code",
   "execution_count": null,
   "metadata": {},
   "outputs": [],
   "source": [
    "# slightly smoother using arrival rate\n",
    "# therefore making it easier for methods to forecast data\n",
    "_ = arrival_rate.plot(figsize=(12,4));"
   ]
  },
  {
   "cell_type": "markdown",
   "metadata": {},
   "source": [
    "## Run a smoother through the time series.\n",
    "\n",
    "Time series are subject to seasonal patterns and noise.  To help explore the trend in the data you can smooth the time series using a *moving average*.\n",
    "\n",
    "Use the `rolling()` method of a pandas dataframe to create a moving average.\n",
    "\n",
    "We will run a 12 month moving average through the data.\n",
    "\n",
    "**What would happen if we looked at a 6 month rolling average?**"
   ]
  },
  {
   "cell_type": "code",
   "execution_count": null,
   "metadata": {},
   "outputs": [],
   "source": [
    "ma6 = arrival_rate.rolling(window=12).mean() #can also use median"
   ]
  },
  {
   "cell_type": "code",
   "execution_count": null,
   "metadata": {},
   "outputs": [],
   "source": [
    "ax = arrival_rate.plot(figsize=(12,4),\n",
    "                       label='observations')\n",
    "ax = ma6.plot(ax=ax,\n",
    "              linestyle='-.',\n",
    "              label='Smoothed Observations (MA_12)') #MA = moving average\n",
    "ax.legend()\n",
    "_ = ax.set_ylabel('attends/day')"
   ]
  },
  {
   "cell_type": "markdown",
   "metadata": {},
   "source": [
    "### Breaking a times series up into its trend and seasonal components.\n",
    "\n",
    "To help visualise and understand trend and seasonality in a time series we can use seasonal decomposition.\n",
    "\n",
    "This is a model based approach that breaks the time series into three components.  The basic approach to seasonal decomposition has two forms: additive and multiplicative.  \n",
    "\n",
    "#### Additive decomposition\n",
    "\n",
    "If we assume that an observation at time t $Y_t$ is the additive sum of trend $T_t$, seasonality $S_t$ and random error $E_t$.  then we have the following model.\n",
    "\n",
    "$Y_t = T_t + S_t + E_t$\n",
    "\n",
    "An additive model merely suggests that the components are added together. It is linear in nature and changes over time are consistently made by the same amount. *NB inear seasonality has the same frequency (width of cycles) and amplitude (height of cycles).*\n",
    "\n",
    "#### Multiplicative decomposition\n",
    "\n",
    "If the seasonal fluctuations of the data grow over time then it is best to a multiplicative model. Where an observation at time t $Y_t$ is the product of multiply the trend $T_t$, seasonality $S_t$ and random error $E_t$\n",
    "\n",
    "$Y_t = T_t \\cdot  S_t \\cdot  E_t$\n",
    "\n",
    "A multiplicative model is nonlinear, such as quadratic or exponential. NB A non-linear seasonality has an increasing or decreasing frequency and/or amplitude over time.\n",
    "\n",
    "![image](images/add_mult.png)\n",
    "[Credit: Nikolaos Kourentzes](#https://kourentzes.com/forecasting/2014/11/09/additive-and-multiplicative-seasonality/)\n",
    "\n",
    "\n",
    "\n",
    "Python has a built in seasonal decomposition method for you to use.  It can be imported from `statsmodels.tsa.seasonal.seasonal_decompose`"
   ]
  },
  {
   "cell_type": "code",
   "execution_count": null,
   "metadata": {},
   "outputs": [],
   "source": [
    "# its easy to use. Pass in the ts and specify the model\n",
    "# How to decide on the model? Clear trend but spread appears consistent.\n",
    "decomp = seasonal_decompose(arrival_rate, model='additive')"
   ]
  },
  {
   "cell_type": "markdown",
   "metadata": {},
   "source": [
    "#### Plotting the components\n",
    "\n",
    "The results of the seasonal decomposition include dataframes containing the trend and seasonality components.  As they are dataframe they can be plotted in the same manner as the raw data.\n",
    "\n",
    "**Plotting Trend**"
   ]
  },
  {
   "cell_type": "code",
   "execution_count": null,
   "metadata": {},
   "outputs": [],
   "source": [
    "# Note that this is similar to smoothing....\n",
    "_ = decomp.trend.plot(figsize=(12,4))"
   ]
  },
  {
   "cell_type": "markdown",
   "metadata": {},
   "source": [
    "**Plotting Seasonality**"
   ]
  },
  {
   "cell_type": "code",
   "execution_count": null,
   "metadata": {},
   "outputs": [],
   "source": [
    "_ = decomp.seasonal.plot(figsize=(12,4))"
   ]
  },
  {
   "cell_type": "markdown",
   "metadata": {},
   "source": [
    "**Residuals (error)**"
   ]
  },
  {
   "cell_type": "code",
   "execution_count": null,
   "metadata": {},
   "outputs": [],
   "source": [
    "_ = decomp.resid.plot(figsize=(12,4))"
   ]
  }
 ],
 "metadata": {
  "kernelspec": {
   "display_name": "Python 3 (ipykernel)",
   "language": "python",
   "name": "python3"
  },
  "language_info": {
   "codemirror_mode": {
    "name": "ipython",
    "version": 3
   },
   "file_extension": ".py",
   "mimetype": "text/x-python",
   "name": "python",
   "nbconvert_exporter": "python",
   "pygments_lexer": "ipython3",
   "version": "3.9.12"
  }
 },
 "nbformat": 4,
 "nbformat_minor": 4
}
